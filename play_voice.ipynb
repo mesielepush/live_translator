{
 "cells": [
  {
   "cell_type": "code",
   "execution_count": 1,
   "metadata": {},
   "outputs": [
    {
     "name": "stdout",
     "output_type": "stream",
     "text": [
      "pygame 2.4.0 (SDL 2.26.4, Python 3.9.12)\n",
      "Hello from the pygame community. https://www.pygame.org/contribute.html\n"
     ]
    }
   ],
   "source": [
    "import pygame\n",
    "import pygame._sdl2.audio as sdl2_audio\n",
    "import os\n",
    "import time"
   ]
  },
  {
   "cell_type": "code",
   "execution_count": 2,
   "metadata": {},
   "outputs": [],
   "source": [
    "def get_devices(capture_devices: bool = False):\n",
    "    init_by_me = not pygame.mixer.get_init()\n",
    "    if init_by_me:\n",
    "        pygame.mixer.init()\n",
    "    devices = tuple(sdl2_audio.get_audio_device_names(capture_devices))\n",
    "    if init_by_me:\n",
    "        pygame.mixer.quit()\n",
    "    return devices\n",
    "def play_lines(file_path):\n",
    "    pygame.mixer.init(devicename=device)\n",
    "    pygame.mixer.music.load(file_path)\n",
    "    pygame.mixer.music.play()\n",
    "    while pygame.mixer.music.get_busy() == True:\n",
    "        continue\n",
    "    pygame.mixer.music.unload()\n",
    "    pygame.mixer.music.stop()\n",
    "\n",
    "    print('pipi')\n",
    "def get_next_file():\n",
    "    files = [x for x in os.listdir('translated_voice') if x.endswith('.mp3')]\n",
    "    files = [x.replace('.mp3','').replace('_','.') for x in files]\n",
    "    files = [float(x) for x in files]\n",
    "    return str(min(files)).replace('.','_')+'.mp3'"
   ]
  },
  {
   "cell_type": "code",
   "execution_count": 3,
   "metadata": {},
   "outputs": [
    {
     "data": {
      "text/plain": [
       "('Digidesign Mbox2 Analog 1/2 (Digidesign Mbox 2 Audio)',\n",
       " 'Microphone (HD Pro Webcam C920)',\n",
       " 'Digidesign Mbox2 S/PDIF 3/4 (Digidesign Mbox 2 Audio)')"
      ]
     },
     "execution_count": 3,
     "metadata": {},
     "output_type": "execute_result"
    }
   ],
   "source": [
    "get_devices(True)"
   ]
  },
  {
   "cell_type": "code",
   "execution_count": 4,
   "metadata": {},
   "outputs": [],
   "source": [
    "device = 'Headset (SOUNDPEATS H1_D2AD Hands-Free AG Audio)'"
   ]
  },
  {
   "cell_type": "code",
   "execution_count": 8,
   "metadata": {},
   "outputs": [],
   "source": [
    "def talk():\n",
    "    ready_patch = []\n",
    "    while True:\n",
    "        files = [x for x in os.listdir('translated_voice') if x.endswith('.mp3') and x not in ready_patch]\n",
    "        if len(files) == 0:\n",
    "            continue\n",
    "        else:\n",
    "            file = get_next_file()\n",
    "            try:\n",
    "                play_lines('translated_voice/' + file)\n",
    "            except:\n",
    "                continue\n",
    "            try:\n",
    "                os.remove(f'translated_voice/{file}')\n",
    "            except:\n",
    "                ready_patch.append(file)"
   ]
  },
  {
   "cell_type": "code",
   "execution_count": null,
   "metadata": {},
   "outputs": [
    {
     "name": "stdout",
     "output_type": "stream",
     "text": [
      "pipi\n",
      "pipi\n",
      "pipi\n",
      "pipi\n",
      "pipi\n"
     ]
    }
   ],
   "source": [
    "talk()"
   ]
  },
  {
   "cell_type": "code",
   "execution_count": null,
   "metadata": {},
   "outputs": [],
   "source": []
  },
  {
   "cell_type": "code",
   "execution_count": null,
   "metadata": {},
   "outputs": [],
   "source": []
  },
  {
   "cell_type": "code",
   "execution_count": null,
   "metadata": {},
   "outputs": [],
   "source": []
  },
  {
   "cell_type": "code",
   "execution_count": null,
   "metadata": {},
   "outputs": [],
   "source": []
  },
  {
   "cell_type": "code",
   "execution_count": null,
   "metadata": {},
   "outputs": [],
   "source": []
  },
  {
   "cell_type": "code",
   "execution_count": 20,
   "metadata": {},
   "outputs": [],
   "source": [
    "file_path = 'translated_voice/1684733471_055441.mp3'"
   ]
  },
  {
   "cell_type": "code",
   "execution_count": 29,
   "metadata": {},
   "outputs": [],
   "source": []
  },
  {
   "cell_type": "code",
   "execution_count": 33,
   "metadata": {},
   "outputs": [],
   "source": [
    "play_lines(file_path)"
   ]
  },
  {
   "cell_type": "code",
   "execution_count": null,
   "metadata": {},
   "outputs": [],
   "source": []
  }
 ],
 "metadata": {
  "kernelspec": {
   "display_name": "Python [conda env:t24]",
   "language": "python",
   "name": "conda-env-t24-py"
  },
  "language_info": {
   "codemirror_mode": {
    "name": "ipython",
    "version": 3
   },
   "file_extension": ".py",
   "mimetype": "text/x-python",
   "name": "python",
   "nbconvert_exporter": "python",
   "pygments_lexer": "ipython3",
   "version": "3.9.12"
  }
 },
 "nbformat": 4,
 "nbformat_minor": 4
}
