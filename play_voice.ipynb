{
 "cells": [
  {
   "cell_type": "code",
   "execution_count": 1,
   "metadata": {},
   "outputs": [
    {
     "name": "stdout",
     "output_type": "stream",
     "text": [
      "pygame 2.4.0 (SDL 2.26.4, Python 3.9.12)\n",
      "Hello from the pygame community. https://www.pygame.org/contribute.html\n"
     ]
    }
   ],
   "source": [
    "import pygame\n",
    "import pygame._sdl2.audio as sdl2_audio\n",
    "import os\n",
    "import time\n",
    "from IPython.display import clear_output"
   ]
  },
  {
   "cell_type": "code",
   "execution_count": 2,
   "metadata": {},
   "outputs": [],
   "source": [
    "def get_devices(capture_devices: bool = False):\n",
    "    init_by_me = not pygame.mixer.get_init()\n",
    "    if init_by_me:\n",
    "        pygame.mixer.init()\n",
    "    devices = tuple(sdl2_audio.get_audio_device_names(capture_devices))\n",
    "    if init_by_me:\n",
    "        pygame.mixer.quit()\n",
    "    return devices\n",
    "def play_lines(file_path):\n",
    "    pygame.mixer.init(devicename=device)\n",
    "    pygame.mixer.music.load(file_path)\n",
    "    pygame.mixer.music.play()\n",
    "    while pygame.mixer.music.get_busy() == True:\n",
    "        continue\n",
    "    pygame.mixer.music.unload()\n",
    "    pygame.mixer.quit()\n",
    "    print('file_path')"
   ]
  },
  {
   "cell_type": "code",
   "execution_count": 3,
   "metadata": {},
   "outputs": [
    {
     "data": {
      "text/plain": [
       "('Headset (SOUNDPEATS H1_D2AD Hands-Free AG Audio)',\n",
       " 'Digidesign Mbox2 Analog 1/2 (Digidesign Mbox 2 Audio)',\n",
       " 'Microphone (HD Pro Webcam C920)',\n",
       " 'Digidesign Mbox2 S/PDIF 3/4 (Digidesign Mbox 2 Audio)')"
      ]
     },
     "execution_count": 3,
     "metadata": {},
     "output_type": "execute_result"
    }
   ],
   "source": [
    "get_devices(True)"
   ]
  },
  {
   "cell_type": "code",
   "execution_count": 4,
   "metadata": {},
   "outputs": [],
   "source": [
    "device = 'Headset (SOUNDPEATS H1_D2AD Hands-Free AG Audio)'"
   ]
  },
  {
   "cell_type": "code",
   "execution_count": 5,
   "metadata": {},
   "outputs": [],
   "source": [
    "def get_current_file_n():\n",
    "    files = [int(x.split('_')[0]) for x in os.listdir('translated_voice') if x.endswith('.mp3')]\n",
    "    if len(files) == 0:\n",
    "        return 0, {}\n",
    "    else: return max(files) + 1\n",
    "def while_we_wait(current_file_n):\n",
    "    clear_output(wait = True)\n",
    "    print(f'waiting for current voice recording: {current_file_n}')\n",
    "    time.sleep(1)\n",
    "    "
   ]
  },
  {
   "cell_type": "code",
   "execution_count": 6,
   "metadata": {},
   "outputs": [],
   "source": [
    "def talk():\n",
    "    s = 0\n",
    "    current_file_n = 0\n",
    "    \n",
    "    while True:\n",
    "        s+=1\n",
    "        print(s)\n",
    "        clear_output(wait = True)\n",
    "        if s == 600:\n",
    "            break\n",
    "        \n",
    "        current = f'translated_voice/{current_file_n}_translation.mp3'\n",
    "        if not os.path.exists(current):\n",
    "            while_we_wait(current_file_n)\n",
    "            s+=1\n",
    "        else:\n",
    "            play_lines(current)\n",
    "            current_file_n +=1\n",
    "            print(f'current {current_file_n}')\n",
    "            clear_output(wait = True)\n",
    "            s+=1"
   ]
  },
  {
   "cell_type": "code",
   "execution_count": null,
   "metadata": {},
   "outputs": [
    {
     "name": "stdout",
     "output_type": "stream",
     "text": [
      "557\n"
     ]
    }
   ],
   "source": [
    "talk()"
   ]
  },
  {
   "cell_type": "code",
   "execution_count": null,
   "metadata": {},
   "outputs": [],
   "source": []
  },
  {
   "cell_type": "code",
   "execution_count": null,
   "metadata": {},
   "outputs": [],
   "source": []
  },
  {
   "cell_type": "code",
   "execution_count": null,
   "metadata": {},
   "outputs": [],
   "source": []
  },
  {
   "cell_type": "code",
   "execution_count": null,
   "metadata": {},
   "outputs": [],
   "source": []
  },
  {
   "cell_type": "code",
   "execution_count": null,
   "metadata": {},
   "outputs": [],
   "source": []
  },
  {
   "cell_type": "code",
   "execution_count": 20,
   "metadata": {},
   "outputs": [],
   "source": [
    "file_path = 'translated_voice/1684733471_055441.mp3'"
   ]
  },
  {
   "cell_type": "code",
   "execution_count": 29,
   "metadata": {},
   "outputs": [],
   "source": []
  },
  {
   "cell_type": "code",
   "execution_count": 33,
   "metadata": {},
   "outputs": [],
   "source": [
    "play_lines(file_path)"
   ]
  },
  {
   "cell_type": "code",
   "execution_count": null,
   "metadata": {},
   "outputs": [],
   "source": []
  }
 ],
 "metadata": {
  "kernelspec": {
   "display_name": "Python [conda env:t24]",
   "language": "python",
   "name": "conda-env-t24-py"
  },
  "language_info": {
   "codemirror_mode": {
    "name": "ipython",
    "version": 3
   },
   "file_extension": ".py",
   "mimetype": "text/x-python",
   "name": "python",
   "nbconvert_exporter": "python",
   "pygments_lexer": "ipython3",
   "version": "3.9.12"
  }
 },
 "nbformat": 4,
 "nbformat_minor": 4
}
