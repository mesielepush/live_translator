{
 "cells": [
  {
   "cell_type": "code",
   "execution_count": 9,
   "metadata": {},
   "outputs": [],
   "source": [
    "from dotenv import load_dotenv\n",
    "import os\n",
    "import openai\n",
    "load_dotenv('.env')\n",
    "from datetime import datetime\n",
    "openai.api_key = os.getenv(\"OPENAI_API_KEY\")"
   ]
  },
  {
   "cell_type": "code",
   "execution_count": 82,
   "metadata": {},
   "outputs": [],
   "source": [
    "base_languague = 'spanish'\n",
    "promt = \"I'ts a lecture about Don Quixote, is in spanish\""
   ]
  },
  {
   "cell_type": "code",
   "execution_count": 110,
   "metadata": {},
   "outputs": [],
   "source": [
    "def get_next_file():\n",
    "    files = os.listdir('records')\n",
    "    files = [x.replace('.mp3','').replace('_','.') for x in files]\n",
    "    files = [float(x) for x in files]\n",
    "    return str(min(files)).replace('.','_') + '.mp3'\n",
    "def make_transcript(file):\n",
    "    audio_file= open(f\"records/{file}\", \"rb\")\n",
    "    return openai.Audio.translate(\"whisper-1\", audio_file, promt = promt, response_format = 'srt')"
   ]
  },
  {
   "cell_type": "code",
   "execution_count": 111,
   "metadata": {},
   "outputs": [],
   "source": [
    "# while True:\n",
    "#     if len(os.listdir('records')) == 0:\n",
    "#         time.sleep(5)\n",
    "#     else:\n",
    "#         transcript = make_transcript(get_next_file())\n",
    "        "
   ]
  },
  {
   "cell_type": "code",
   "execution_count": 112,
   "metadata": {},
   "outputs": [],
   "source": [
    "if len(os.listdir('records')) == 0:\n",
    "    time.sleep(5)\n",
    "else:\n",
    "    current_file = get_next_file()\n",
    "    transcript = make_transcript(current_file)\n",
    "#     with open('readme.txt', 'w') as f:\n",
    "#         f.write()\n",
    "    #os.remove('records/' + current_file)"
   ]
  },
  {
   "cell_type": "code",
   "execution_count": 113,
   "metadata": {},
   "outputs": [
    {
     "data": {
      "text/plain": [
       "'1\\n00:00:00,000 --> 00:00:05,000\\nMany years later, in front of the shooting squad, Colonel Abelardo...\\n\\n\\n'"
      ]
     },
     "execution_count": 113,
     "metadata": {},
     "output_type": "execute_result"
    }
   ],
   "source": [
    "transcript"
   ]
  },
  {
   "cell_type": "code",
   "execution_count": null,
   "metadata": {},
   "outputs": [],
   "source": []
  }
 ],
 "metadata": {
  "kernelspec": {
   "display_name": "Python [conda env:t24]",
   "language": "python",
   "name": "conda-env-t24-py"
  },
  "language_info": {
   "codemirror_mode": {
    "name": "ipython",
    "version": 3
   },
   "file_extension": ".py",
   "mimetype": "text/x-python",
   "name": "python",
   "nbconvert_exporter": "python",
   "pygments_lexer": "ipython3",
   "version": "3.9.12"
  }
 },
 "nbformat": 4,
 "nbformat_minor": 4
}
