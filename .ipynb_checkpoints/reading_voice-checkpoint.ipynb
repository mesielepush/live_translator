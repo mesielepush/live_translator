{
 "cells": [
  {
   "cell_type": "code",
   "execution_count": 1,
   "metadata": {},
   "outputs": [
    {
     "data": {
      "text/plain": [
       "True"
      ]
     },
     "execution_count": 1,
     "metadata": {},
     "output_type": "execute_result"
    }
   ],
   "source": [
    "import os\n",
    "import requests\n",
    "from requests import Response\n",
    "from typing import BinaryIO\n",
    "import time\n",
    "from dotenv import load_dotenv\n",
    "load_dotenv('.env')"
   ]
  },
  {
   "cell_type": "code",
   "execution_count": 19,
   "metadata": {},
   "outputs": [],
   "source": [
    "def create_new_voice(files_path,\n",
    "                     output_path,\n",
    "                     name,\n",
    "                     accent,\n",
    "                     gender,\n",
    "                     promt):\n",
    "    \n",
    "    files = os.listdir(files_path)\n",
    "    files = [files_path + x for x in files if x.endswith('.mp3') ]\n",
    "    OUTPUT_PATH = output_path\n",
    "    add_voice_url = \"https://api.elevenlabs.io/v1/voices/add\"\n",
    "    \n",
    "    \n",
    "    headers = {\n",
    "      \"Accept\": \"application/json\",\n",
    "      \"xi-api-key\": os.getenv(\"ELEVENLABS_API_KEY\")\n",
    "    }\n",
    "    \n",
    "    labels = '{\"accent\": ' + f' \"{accent}\" ' + ', \"gender\": ' + f' \"{gender}\"' +'} '\n",
    "    \n",
    "    data = {\n",
    "    'name': f'{name}',\n",
    "    'labels': f'{labels}',\n",
    "    'description': f'{promt}'}\n",
    "    \n",
    "    files = [\n",
    "        ('files', ('sample1.mp3', open(x, 'rb'), 'audio/mpeg')) for x in files\n",
    "    ]\n",
    "    response = requests.post(add_voice_url, headers=headers, data=data, files=files)\n",
    "    voice_id = response.json()[\"voice_id\"]\n",
    "    print(f'voice_id {voice_id} \\n {name}')\n",
    "    with open(f'voices/{name}.txt', 'w') as f:\n",
    "            f.write(voice_id = voice_id)"
   ]
  },
  {
   "cell_type": "code",
   "execution_count": null,
   "metadata": {},
   "outputs": [],
   "source": [
    "url = \"https://api.elevenlabs.io/v1/voices\"\n",
    "\n",
    "headers = {\n",
    "  \"Accept\": \"application/json\",\n",
    "  \"xi-api-key\": f'{os.getenv(\"ELEVENLABS_API_KEY\")}'\n",
    "}\n",
    "\n",
    "response = requests.get(url, headers=headers)\n",
    "\n",
    "print(response.text)"
   ]
  },
  {
   "cell_type": "code",
   "execution_count": 34,
   "metadata": {},
   "outputs": [
    {
     "data": {
      "text/plain": [
       "['yNLqjM8bRiVOpEoT0Efj']"
      ]
     },
     "execution_count": 34,
     "metadata": {},
     "output_type": "execute_result"
    }
   ],
   "source": [
    "[x['voice_id'] for x in response.json()['voices'] if x['name'] == 'marin_3']"
   ]
  },
  {
   "cell_type": "code",
   "execution_count": 31,
   "metadata": {},
   "outputs": [
    {
     "data": {
      "text/plain": [
       "'marin_3'"
      ]
     },
     "execution_count": 31,
     "metadata": {},
     "output_type": "execute_result"
    }
   ],
   "source": [
    "response.json()['voices'][12]['name']"
   ]
  },
  {
   "cell_type": "code",
   "execution_count": 18,
   "metadata": {},
   "outputs": [
    {
     "ename": "NameError",
     "evalue": "name 'voice_id' is not defined",
     "output_type": "error",
     "traceback": [
      "\u001b[1;31m---------------------------------------------------------------------------\u001b[0m",
      "\u001b[1;31mNameError\u001b[0m                                 Traceback (most recent call last)",
      "Cell \u001b[1;32mIn[18], line 1\u001b[0m\n\u001b[1;32m----> 1\u001b[0m \u001b[43mcreate_new_voice\u001b[49m\u001b[43m(\u001b[49m\u001b[43mfiles_path\u001b[49m\u001b[43m \u001b[49m\u001b[38;5;241;43m=\u001b[39;49m\u001b[43m \u001b[49m\u001b[38;5;124;43m'\u001b[39;49m\u001b[38;5;124;43mrecords/\u001b[39;49m\u001b[38;5;124;43m'\u001b[39;49m\u001b[43m,\u001b[49m\n\u001b[0;32m      2\u001b[0m \u001b[43m                     \u001b[49m\u001b[43moutput_path\u001b[49m\u001b[43m \u001b[49m\u001b[38;5;241;43m=\u001b[39;49m\u001b[43m \u001b[49m\u001b[38;5;124;43m'\u001b[39;49m\u001b[38;5;124;43mvoices/\u001b[39;49m\u001b[38;5;124;43m'\u001b[39;49m\u001b[43m,\u001b[49m\n\u001b[0;32m      3\u001b[0m \u001b[43m                     \u001b[49m\u001b[43mname\u001b[49m\u001b[43m \u001b[49m\u001b[38;5;241;43m=\u001b[39;49m\u001b[43m \u001b[49m\u001b[38;5;124;43m'\u001b[39;49m\u001b[38;5;124;43mmarin_3\u001b[39;49m\u001b[38;5;124;43m'\u001b[39;49m\u001b[43m,\u001b[49m\n\u001b[0;32m      4\u001b[0m \u001b[43m                    \u001b[49m\u001b[43maccent\u001b[49m\u001b[43m \u001b[49m\u001b[38;5;241;43m=\u001b[39;49m\u001b[43m \u001b[49m\u001b[38;5;124;43m'\u001b[39;49m\u001b[38;5;124;43mmexican\u001b[39;49m\u001b[38;5;124;43m'\u001b[39;49m\u001b[43m,\u001b[49m\n\u001b[0;32m      5\u001b[0m \u001b[43m                    \u001b[49m\u001b[43mgender\u001b[49m\u001b[43m \u001b[49m\u001b[38;5;241;43m=\u001b[39;49m\u001b[43m \u001b[49m\u001b[38;5;124;43m'\u001b[39;49m\u001b[38;5;124;43mmale\u001b[39;49m\u001b[38;5;124;43m'\u001b[39;49m\u001b[43m,\u001b[49m\n\u001b[0;32m      6\u001b[0m \u001b[43m                    \u001b[49m\u001b[43mpromt\u001b[49m\u001b[43m \u001b[49m\u001b[38;5;241;43m=\u001b[39;49m\u001b[43m \u001b[49m\u001b[38;5;124;43m'\u001b[39;49m\u001b[38;5;124;43mLecturer, technical, middle age male, deep voice\u001b[39;49m\u001b[38;5;124;43m'\u001b[39;49m\u001b[43m)\u001b[49m\n",
      "Cell \u001b[1;32mIn[16], line 30\u001b[0m, in \u001b[0;36mcreate_new_voice\u001b[1;34m(files_path, output_path, name, accent, gender, promt)\u001b[0m\n\u001b[0;32m     26\u001b[0m files \u001b[38;5;241m=\u001b[39m [\n\u001b[0;32m     27\u001b[0m     (\u001b[38;5;124m'\u001b[39m\u001b[38;5;124mfiles\u001b[39m\u001b[38;5;124m'\u001b[39m, (\u001b[38;5;124m'\u001b[39m\u001b[38;5;124msample1.mp3\u001b[39m\u001b[38;5;124m'\u001b[39m, \u001b[38;5;28mopen\u001b[39m(x, \u001b[38;5;124m'\u001b[39m\u001b[38;5;124mrb\u001b[39m\u001b[38;5;124m'\u001b[39m), \u001b[38;5;124m'\u001b[39m\u001b[38;5;124maudio/mpeg\u001b[39m\u001b[38;5;124m'\u001b[39m)) \u001b[38;5;28;01mfor\u001b[39;00m x \u001b[38;5;129;01min\u001b[39;00m files\n\u001b[0;32m     28\u001b[0m ]\n\u001b[0;32m     29\u001b[0m response \u001b[38;5;241m=\u001b[39m requests\u001b[38;5;241m.\u001b[39mpost(add_voice_url, headers\u001b[38;5;241m=\u001b[39mheaders, data\u001b[38;5;241m=\u001b[39mdata, files\u001b[38;5;241m=\u001b[39mfiles)\n\u001b[1;32m---> 30\u001b[0m \u001b[38;5;28mprint\u001b[39m(\u001b[38;5;124mf\u001b[39m\u001b[38;5;124m'\u001b[39m\u001b[38;5;124mvoice_id \u001b[39m\u001b[38;5;132;01m{\u001b[39;00mvoice_id\u001b[38;5;132;01m}\u001b[39;00m\u001b[38;5;124m \u001b[39m\u001b[38;5;130;01m\\n\u001b[39;00m\u001b[38;5;124m \u001b[39m\u001b[38;5;132;01m{\u001b[39;00mname\u001b[38;5;132;01m}\u001b[39;00m\u001b[38;5;124m'\u001b[39m)\n\u001b[0;32m     31\u001b[0m \u001b[38;5;28;01mwith\u001b[39;00m \u001b[38;5;28mopen\u001b[39m(\u001b[38;5;124mf\u001b[39m\u001b[38;5;124m'\u001b[39m\u001b[38;5;124mvoices/\u001b[39m\u001b[38;5;132;01m{\u001b[39;00mname\u001b[38;5;132;01m}\u001b[39;00m\u001b[38;5;124m.txt\u001b[39m\u001b[38;5;124m'\u001b[39m, \u001b[38;5;124m'\u001b[39m\u001b[38;5;124mw\u001b[39m\u001b[38;5;124m'\u001b[39m) \u001b[38;5;28;01mas\u001b[39;00m f:\n\u001b[0;32m     32\u001b[0m         f\u001b[38;5;241m.\u001b[39mwrite(voice_id \u001b[38;5;241m=\u001b[39m response\u001b[38;5;241m.\u001b[39mjson()[\u001b[38;5;124m\"\u001b[39m\u001b[38;5;124mvoice_id\u001b[39m\u001b[38;5;124m\"\u001b[39m])\n",
      "\u001b[1;31mNameError\u001b[0m: name 'voice_id' is not defined"
     ]
    }
   ],
   "source": [
    "create_new_voice(files_path = 'records/',\n",
    "                     output_path = 'voices/',\n",
    "                     name = 'marin_3',\n",
    "                    accent = 'mexican',\n",
    "                    gender = 'male',\n",
    "                    promt = 'Lecturer, technical, middle age male, deep voice')"
   ]
  },
  {
   "cell_type": "code",
   "execution_count": null,
   "metadata": {},
   "outputs": [],
   "source": []
  },
  {
   "cell_type": "code",
   "execution_count": null,
   "metadata": {},
   "outputs": [],
   "source": []
  },
  {
   "cell_type": "code",
   "execution_count": null,
   "metadata": {},
   "outputs": [],
   "source": []
  },
  {
   "cell_type": "code",
   "execution_count": null,
   "metadata": {},
   "outputs": [],
   "source": []
  },
  {
   "cell_type": "code",
   "execution_count": null,
   "metadata": {},
   "outputs": [],
   "source": []
  },
  {
   "cell_type": "code",
   "execution_count": null,
   "metadata": {},
   "outputs": [],
   "source": []
  },
  {
   "cell_type": "code",
   "execution_count": 17,
   "metadata": {},
   "outputs": [],
   "source": [
    "from elevenlabs import generate, play"
   ]
  },
  {
   "cell_type": "code",
   "execution_count": 19,
   "metadata": {},
   "outputs": [],
   "source": [
    "import ffmpeg"
   ]
  },
  {
   "cell_type": "code",
   "execution_count": 21,
   "metadata": {},
   "outputs": [],
   "source": [
    "url = \"https://api.elevenlabs.io/v1/text-to-speech/8Y6CJTF69DpxYxigsTGC\"\n",
    "\n",
    "headers = {\n",
    "  \"Accept\": \"audio/mpeg\",\n",
    "  \"Content-Type\": \"application/json\",\n",
    "  \"xi-api-key\": os.getenv(\"ELEVENLABS_API_KEY\")\n",
    "}\n",
    "\n",
    "data = {\n",
    "  \"text\": \"Hi! My name is Bella, nice to meet you!\",\n",
    "  \"model_id\": \"eleven_monolingual_v1\",\n",
    "  \"voice_settings\": {\n",
    "    \"stability\": 0.5,\n",
    "    \"similarity_boost\": 0.5\n",
    "  }\n",
    "}"
   ]
  },
  {
   "cell_type": "code",
   "execution_count": 22,
   "metadata": {},
   "outputs": [],
   "source": [
    "response = requests.post(url, json=data, headers=headers)"
   ]
  },
  {
   "cell_type": "code",
   "execution_count": 23,
   "metadata": {},
   "outputs": [],
   "source": [
    "with open('output.mp3', 'wb') as f:\n",
    "    for chunk in response.iter_content(chunk_size=CHUNK_SIZE):\n",
    "        if chunk:\n",
    "            f.write(chunk)"
   ]
  },
  {
   "cell_type": "code",
   "execution_count": null,
   "metadata": {},
   "outputs": [],
   "source": []
  },
  {
   "cell_type": "code",
   "execution_count": null,
   "metadata": {},
   "outputs": [],
   "source": []
  },
  {
   "cell_type": "code",
   "execution_count": null,
   "metadata": {},
   "outputs": [],
   "source": []
  },
  {
   "cell_type": "code",
   "execution_count": null,
   "metadata": {},
   "outputs": [],
   "source": []
  },
  {
   "cell_type": "code",
   "execution_count": null,
   "metadata": {},
   "outputs": [],
   "source": []
  },
  {
   "cell_type": "code",
   "execution_count": null,
   "metadata": {},
   "outputs": [],
   "source": []
  },
  {
   "cell_type": "code",
   "execution_count": null,
   "metadata": {},
   "outputs": [],
   "source": []
  },
  {
   "cell_type": "code",
   "execution_count": null,
   "metadata": {},
   "outputs": [],
   "source": [
    "voices_response = requests.get(\n",
    "    f\"{BASE_URL}/v1/voices\", params={\"xi-api-key\": API_KEY}, timeout=5\n",
    ")"
   ]
  },
  {
   "cell_type": "code",
   "execution_count": null,
   "metadata": {},
   "outputs": [],
   "source": [
    "voice_id"
   ]
  },
  {
   "cell_type": "code",
   "execution_count": null,
   "metadata": {},
   "outputs": [],
   "source": []
  },
  {
   "cell_type": "code",
   "execution_count": 4,
   "metadata": {},
   "outputs": [],
   "source": [
    "def _save_binary_to_mp3(content: BinaryIO, filename: str) -> None:\n",
    "    with open(filename, \"wb\") as mp3_file:\n",
    "        mp3_file.write(content)\n",
    "\n",
    "\n",
    "def list_available_names() -> list[str]:\n",
    "    voices_response = requests.get(\n",
    "        f\"{BASE_URL}/v1/voices\", params={\"xi-api-key\": API_KEY}, timeout=5\n",
    "    )\n",
    "    return [item.get(\"name\") for item in voices_response.json()[\"voices\"]]\n",
    "\n",
    "\n",
    "def convert_text_to_mp3(message: str, voice_name: str, mp3_filename: str) -> None:\n",
    "\n",
    "    voices_response = requests.get(\n",
    "        f\"{BASE_URL}/v1/voices\", params={\"xi-api-key\": API_KEY}, timeout=5\n",
    "    )\n",
    "\n",
    "    voice_id = _get_id_from_name(response=voices_response, name=voice_name)\n",
    "\n",
    "    payload = {\n",
    "        \"text\": message,\n",
    "        \"voice_settings\": {\"stability\": 0.75, \"similarity_boost\": 0.75},\n",
    "    }\n",
    "\n",
    "    text_to_speech_response = requests.post(\n",
    "        f\"{BASE_URL}/v1/text-to-speech/{voice_id}/stream\",\n",
    "        params={\"voice_id\": voice_id, \"xi-api-key\": API_KEY},\n",
    "        json=payload,\n",
    "        timeout=5,\n",
    "    )\n",
    "\n",
    "    while text_to_speech_response.status_code != 200:\n",
    "        time.sleep(5)\n",
    "        print(\"Trying again, the API maybe busy...\")\n",
    "        text_to_speech_response = requests.post(\n",
    "            f\"{BASE_URL}/v1/text-to-speech/{voice_id}/stream\",\n",
    "            params={\"voice_id\": voice_id, \"xi-api-key\": API_KEY},\n",
    "            json=payload,\n",
    "            timeout=5,\n",
    "        )\n",
    "\n",
    "    _save_binary_to_mp3(content=text_to_speech_response.content, filename=mp3_filename)\n",
    "def _get_id_from_name(response: Response, name: str) -> str:\n",
    "    id_to_name = {\n",
    "        item.get(\"name\"): item.get(\"voice_id\") for item in response.json()[\"voices\"]\n",
    "    }\n",
    "\n",
    "    return id_to_name[name]\n"
   ]
  },
  {
   "cell_type": "code",
   "execution_count": 5,
   "metadata": {},
   "outputs": [
    {
     "data": {
      "text/plain": [
       "['Rachel', 'Domi', 'Bella', 'Antoni', 'Elli', 'Josh', 'Arnold', 'Adam', 'Sam']"
      ]
     },
     "execution_count": 5,
     "metadata": {},
     "output_type": "execute_result"
    }
   ],
   "source": [
    "list_available_names()"
   ]
  },
  {
   "cell_type": "code",
   "execution_count": 5,
   "metadata": {},
   "outputs": [],
   "source": [
    "with open('transcripts/1684717213_2342722.txt') as file:\n",
    "    batch = file.readlines()[0]\n",
    "selected_voice = 'Bella'"
   ]
  },
  {
   "cell_type": "code",
   "execution_count": null,
   "metadata": {},
   "outputs": [],
   "source": []
  },
  {
   "cell_type": "code",
   "execution_count": null,
   "metadata": {},
   "outputs": [],
   "source": []
  },
  {
   "cell_type": "code",
   "execution_count": null,
   "metadata": {},
   "outputs": [],
   "source": []
  },
  {
   "cell_type": "code",
   "execution_count": null,
   "metadata": {},
   "outputs": [],
   "source": []
  },
  {
   "cell_type": "code",
   "execution_count": null,
   "metadata": {},
   "outputs": [],
   "source": []
  },
  {
   "cell_type": "code",
   "execution_count": null,
   "metadata": {},
   "outputs": [],
   "source": []
  },
  {
   "cell_type": "code",
   "execution_count": null,
   "metadata": {},
   "outputs": [],
   "source": []
  },
  {
   "cell_type": "code",
   "execution_count": null,
   "metadata": {},
   "outputs": [],
   "source": []
  },
  {
   "cell_type": "code",
   "execution_count": null,
   "metadata": {},
   "outputs": [
    {
     "name": "stdout",
     "output_type": "stream",
     "text": [
      "Trying again, the API maybe busy...\n",
      "Trying again, the API maybe busy...\n",
      "Trying again, the API maybe busy...\n",
      "Trying again, the API maybe busy...\n",
      "Trying again, the API maybe busy...\n",
      "Trying again, the API maybe busy...\n",
      "Trying again, the API maybe busy...\n",
      "Trying again, the API maybe busy...\n",
      "Trying again, the API maybe busy...\n",
      "Trying again, the API maybe busy...\n",
      "Trying again, the API maybe busy...\n",
      "Trying again, the API maybe busy...\n",
      "Trying again, the API maybe busy...\n",
      "Trying again, the API maybe busy...\n",
      "Trying again, the API maybe busy...\n",
      "Trying again, the API maybe busy...\n",
      "Trying again, the API maybe busy...\n",
      "Trying again, the API maybe busy...\n",
      "Trying again, the API maybe busy...\n",
      "Trying again, the API maybe busy...\n",
      "Trying again, the API maybe busy...\n",
      "Trying again, the API maybe busy...\n",
      "Trying again, the API maybe busy...\n",
      "Trying again, the API maybe busy...\n",
      "Trying again, the API maybe busy...\n",
      "Trying again, the API maybe busy...\n",
      "Trying again, the API maybe busy...\n",
      "Trying again, the API maybe busy...\n",
      "Trying again, the API maybe busy...\n",
      "Trying again, the API maybe busy...\n",
      "Trying again, the API maybe busy...\n",
      "Trying again, the API maybe busy...\n",
      "Trying again, the API maybe busy...\n",
      "Trying again, the API maybe busy...\n",
      "Trying again, the API maybe busy...\n",
      "Trying again, the API maybe busy...\n",
      "Trying again, the API maybe busy...\n",
      "Trying again, the API maybe busy...\n",
      "Trying again, the API maybe busy...\n",
      "Trying again, the API maybe busy...\n",
      "Trying again, the API maybe busy...\n",
      "Trying again, the API maybe busy...\n",
      "Trying again, the API maybe busy...\n",
      "Trying again, the API maybe busy...\n",
      "Trying again, the API maybe busy...\n",
      "Trying again, the API maybe busy...\n",
      "Trying again, the API maybe busy...\n",
      "Trying again, the API maybe busy...\n",
      "Trying again, the API maybe busy...\n",
      "Trying again, the API maybe busy...\n",
      "Trying again, the API maybe busy...\n",
      "Trying again, the API maybe busy...\n",
      "Trying again, the API maybe busy...\n",
      "Trying again, the API maybe busy...\n",
      "Trying again, the API maybe busy...\n",
      "Trying again, the API maybe busy...\n",
      "Trying again, the API maybe busy...\n",
      "Trying again, the API maybe busy...\n",
      "Trying again, the API maybe busy...\n",
      "Trying again, the API maybe busy...\n",
      "Trying again, the API maybe busy...\n",
      "Trying again, the API maybe busy...\n",
      "Trying again, the API maybe busy...\n",
      "Trying again, the API maybe busy...\n",
      "Trying again, the API maybe busy...\n",
      "Trying again, the API maybe busy...\n",
      "Trying again, the API maybe busy...\n",
      "Trying again, the API maybe busy...\n",
      "Trying again, the API maybe busy...\n",
      "Trying again, the API maybe busy...\n",
      "Trying again, the API maybe busy...\n",
      "Trying again, the API maybe busy...\n",
      "Trying again, the API maybe busy...\n",
      "Trying again, the API maybe busy...\n",
      "Trying again, the API maybe busy...\n",
      "Trying again, the API maybe busy...\n",
      "Trying again, the API maybe busy...\n",
      "Trying again, the API maybe busy...\n",
      "Trying again, the API maybe busy...\n",
      "Trying again, the API maybe busy...\n",
      "Trying again, the API maybe busy...\n",
      "Trying again, the API maybe busy...\n",
      "Trying again, the API maybe busy...\n",
      "Trying again, the API maybe busy...\n",
      "Trying again, the API maybe busy...\n",
      "Trying again, the API maybe busy...\n",
      "Trying again, the API maybe busy...\n",
      "Trying again, the API maybe busy...\n",
      "Trying again, the API maybe busy...\n",
      "Trying again, the API maybe busy...\n",
      "Trying again, the API maybe busy...\n",
      "Trying again, the API maybe busy...\n"
     ]
    }
   ],
   "source": [
    "convert_text_to_mp3(\n",
    "                message=batch,\n",
    "                voice_name=selected_voice,\n",
    "                mp3_filename=\"explanation.mp3\",\n",
    "            )"
   ]
  },
  {
   "cell_type": "code",
   "execution_count": null,
   "metadata": {},
   "outputs": [],
   "source": []
  }
 ],
 "metadata": {
  "kernelspec": {
   "display_name": "Python [conda env:t24]",
   "language": "python",
   "name": "conda-env-t24-py"
  },
  "language_info": {
   "codemirror_mode": {
    "name": "ipython",
    "version": 3
   },
   "file_extension": ".py",
   "mimetype": "text/x-python",
   "name": "python",
   "nbconvert_exporter": "python",
   "pygments_lexer": "ipython3",
   "version": "3.9.12"
  }
 },
 "nbformat": 4,
 "nbformat_minor": 4
}
