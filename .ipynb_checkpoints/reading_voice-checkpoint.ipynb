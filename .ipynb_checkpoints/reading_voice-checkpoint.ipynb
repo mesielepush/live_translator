{
 "cells": [
  {
   "cell_type": "code",
   "execution_count": 2,
   "metadata": {},
   "outputs": [
    {
     "data": {
      "text/plain": [
       "True"
      ]
     },
     "execution_count": 2,
     "metadata": {},
     "output_type": "execute_result"
    }
   ],
   "source": [
    "import os\n",
    "import requests\n",
    "from requests import Response\n",
    "from typing import BinaryIO\n",
    "import time\n",
    "from dotenv import load_dotenv\n",
    "load_dotenv('.env')\n"
   ]
  },
  {
   "cell_type": "code",
   "execution_count": 3,
   "metadata": {},
   "outputs": [],
   "source": [
    "def get_voices():\n",
    "    \n",
    "    url = \"https://api.elevenlabs.io/v1/voices\"\n",
    "    headers = {\n",
    "      \"Accept\": \"application/json\",\n",
    "      \"xi-api-key\": f'{os.getenv(\"ELEVENLABS_API_KEY\")}'\n",
    "    }\n",
    "    response = requests.get(url, headers=headers)\n",
    "    names = [f'{x[\"name\"]}: {x[\"voice_id\"] }' for x in response.json()['voices']]\n",
    "    return names\n",
    "def train_voice(files_path,\n",
    "                     output_path,\n",
    "                     name,\n",
    "                     accent,\n",
    "                     gender,\n",
    "                     promt):\n",
    "    from create_voice import create_new_voice\n",
    "    create_new_voice(files_path,\n",
    "                     output_path,\n",
    "                     name,\n",
    "                     accent,\n",
    "                     gender,\n",
    "                     promt)"
   ]
  },
  {
   "cell_type": "code",
   "execution_count": 4,
   "metadata": {},
   "outputs": [
    {
     "data": {
      "text/plain": [
       "['Rachel: 21m00Tcm4TlvDq8ikWAM',\n",
       " 'Domi: AZnzlk1XvdvUeBnXmlld',\n",
       " 'Bella: EXAVITQu4vr4xnSDxMaL',\n",
       " 'Antoni: ErXwobaYiN019PkySvjV',\n",
       " 'Elli: MF3mGyEYCl7XYWbV9V6O',\n",
       " 'Josh: TxGEqnHWrfWFTfGW9XjX',\n",
       " 'Arnold: VR6AewLTigWG4xSOukaG',\n",
       " 'Adam: pNInz6obpgDQGcFmaJgB',\n",
       " 'Sam: yoZ06aMxZJJ28mfd3POQ',\n",
       " '2_marin: 8Y6CJTF69DpxYxigsTGC',\n",
       " 'borges: 8nNSrt28oNwq75pvZ4NF',\n",
       " 'marin: ZIySvgQ6BjOzHkD7f1XI',\n",
       " 'Voice name: aVJXWFRjApFQNsvibmvo',\n",
       " 'marin_3: yNLqjM8bRiVOpEoT0Efj']"
      ]
     },
     "execution_count": 4,
     "metadata": {},
     "output_type": "execute_result"
    }
   ],
   "source": [
    "get_voices()"
   ]
  },
  {
   "cell_type": "code",
   "execution_count": 5,
   "metadata": {},
   "outputs": [],
   "source": [
    "def get_next_file():\n",
    "    files = os.listdir('transcripts')\n",
    "    files = [x.replace('.txt','').replace('_','.') for x in files]\n",
    "    files = [float(x) for x in files]\n",
    "    return str(min(files)).replace('.','_')\n",
    "\n",
    "\n",
    "def read_file(file_path):\n",
    "    with open('transcripts/'+file_path+'.txt') as f:\n",
    "        lines = f.readlines()\n",
    "    return lines\n",
    "\n",
    "def send_voice_request(voice_id, text, stability = 0.5, similarity_boost = 0.5):\n",
    "    url = f\"https://api.elevenlabs.io/v1/text-to-speech/{voice_id}/stream\"\n",
    "\n",
    "    headers = {\n",
    "      \"Accept\": \"audio/mpeg\",\n",
    "      \"Content-Type\": \"application/json\",\n",
    "      \"xi-api-key\": os.getenv(\"ELEVENLABS_API_KEY\")\n",
    "    }\n",
    "\n",
    "    data = {\n",
    "      \"text\": f'{text}',\n",
    "      \"model_id\": \"eleven_multilingual_v1\",\n",
    "      \"voice_settings\": {\n",
    "        \"stability\": stability,\n",
    "        \"similarity_boost\": similarity_boost\n",
    "      }\n",
    "    }\n",
    "    \n",
    "    return requests.post(url, json=data, headers=headers)\n",
    "\n",
    "def record_audio_file(request, title):\n",
    "    with open(f'translated_voice/{title}.mp3', 'wb') as f:\n",
    "        for chunk in request.iter_content():\n",
    "            if chunk:\n",
    "                f.write(chunk)\n",
    "                \n",
    "def get_lines_to_read():\n",
    "    file_path = get_next_file()\n",
    "    file = read_file(file_path)\n",
    "    return file,file_path"
   ]
  },
  {
   "cell_type": "code",
   "execution_count": 6,
   "metadata": {},
   "outputs": [],
   "source": [
    "def read_transcript(voice_id):\n",
    "    lines,title = get_lines_to_read()\n",
    "    request = send_voice_request(voice_id, lines, stability = 0.5, similarity_boost = 0.5)\n",
    "    record_audio_file(request, title)\n",
    "    print(f'new_file at: {title}')\n",
    "    os.remove('transcripts/' + title+'.txt')"
   ]
  },
  {
   "cell_type": "code",
   "execution_count": 7,
   "metadata": {},
   "outputs": [],
   "source": [
    "def record_reading(voice_id = 'VR6AewLTigWG4xSOukaG'):\n",
    "    \n",
    "    while True:\n",
    "        files = [x for x in os.listdir('transcripts') if x.endswith('.txt')]\n",
    "        if len(files) == 0:\n",
    "            continue\n",
    "        else:\n",
    "            read_transcript(voice_id)"
   ]
  },
  {
   "cell_type": "code",
   "execution_count": null,
   "metadata": {},
   "outputs": [
    {
     "name": "stdout",
     "output_type": "stream",
     "text": [
      "new_file at: 1684742526_4270504\n",
      "new_file at: 1684742556_5492866\n",
      "new_file at: 1684742586_6738367\n",
      "new_file at: 1684742724_8918872\n",
      "new_file at: 1684742785_0068326\n",
      "new_file at: 1684742845_1254652\n"
     ]
    }
   ],
   "source": [
    "record_reading()"
   ]
  },
  {
   "cell_type": "code",
   "execution_count": null,
   "metadata": {},
   "outputs": [],
   "source": []
  },
  {
   "cell_type": "code",
   "execution_count": null,
   "metadata": {},
   "outputs": [],
   "source": []
  },
  {
   "cell_type": "code",
   "execution_count": null,
   "metadata": {},
   "outputs": [],
   "source": []
  },
  {
   "cell_type": "code",
   "execution_count": null,
   "metadata": {},
   "outputs": [],
   "source": []
  },
  {
   "cell_type": "code",
   "execution_count": null,
   "metadata": {},
   "outputs": [],
   "source": []
  },
  {
   "cell_type": "code",
   "execution_count": null,
   "metadata": {},
   "outputs": [],
   "source": []
  },
  {
   "cell_type": "code",
   "execution_count": 48,
   "metadata": {},
   "outputs": [],
   "source": [
    "voices = {'marin_3':'yNLqjM8bRiVOpEoT0Efj',\n",
    "         'borges':'8nNSrt28oNwq75pvZ4NF',\n",
    "         'arnold':'VR6AewLTigWG4xSOukaG'}"
   ]
  },
  {
   "cell_type": "code",
   "execution_count": null,
   "metadata": {},
   "outputs": [],
   "source": []
  },
  {
   "cell_type": "code",
   "execution_count": 52,
   "metadata": {},
   "outputs": [],
   "source": [
    "url = f\"https://api.elevenlabs.io/v1/text-to-speech/{voices['borges']}/stream\"\n",
    "\n",
    "headers = {\n",
    "  \"Accept\": \"audio/mpeg\",\n",
    "  \"Content-Type\": \"application/json\",\n",
    "  \"xi-api-key\": os.getenv(\"ELEVENLABS_API_KEY\")\n",
    "}\n",
    "\n",
    "data = {\n",
    "  \"text\": f'{text}',\n",
    "  \"model_id\": \"eleven_multilingual_v1\",\n",
    "  \"voice_settings\": {\n",
    "    \"stability\": 0.5,\n",
    "    \"similarity_boost\": 0.5\n",
    "  }\n",
    "}"
   ]
  },
  {
   "cell_type": "code",
   "execution_count": 53,
   "metadata": {},
   "outputs": [],
   "source": [
    "response = requests.post(url, json=data, headers=headers)"
   ]
  },
  {
   "cell_type": "code",
   "execution_count": 54,
   "metadata": {},
   "outputs": [],
   "source": [
    "with open('translated_voice/borges.mp3', 'wb') as f:\n",
    "    for chunk in response.iter_content():\n",
    "        if chunk:\n",
    "            f.write(chunk)"
   ]
  },
  {
   "cell_type": "code",
   "execution_count": null,
   "metadata": {},
   "outputs": [],
   "source": []
  },
  {
   "cell_type": "code",
   "execution_count": 28,
   "metadata": {},
   "outputs": [
    {
     "name": "stdout",
     "output_type": "stream",
     "text": [
      "{\"stability\":0.75,\"similarity_boost\":0.75}\n"
     ]
    }
   ],
   "source": [
    "url = f\"https://api.elevenlabs.io/v1/voices/{voices['marin_3']}/settings\"\n",
    "\n",
    "headers = {\n",
    "  \"Accept\": \"application/json\",\n",
    "  \"xi-api-key\": os.getenv(\"ELEVENLABS_API_KEY\")\n",
    "}\n",
    "\n",
    "response = requests.get(url, headers=headers)\n",
    "\n",
    "print(response.text)"
   ]
  },
  {
   "cell_type": "code",
   "execution_count": null,
   "metadata": {},
   "outputs": [],
   "source": []
  },
  {
   "cell_type": "code",
   "execution_count": 25,
   "metadata": {},
   "outputs": [],
   "source": [
    "response = requests.post(url, json=data, headers=headers)"
   ]
  },
  {
   "cell_type": "code",
   "execution_count": 26,
   "metadata": {},
   "outputs": [],
   "source": [
    "with open('2.mp3', 'wb') as f:\n",
    "    for chunk in response.iter_content():\n",
    "        if chunk:\n",
    "            f.write(chunk)"
   ]
  },
  {
   "cell_type": "code",
   "execution_count": null,
   "metadata": {},
   "outputs": [],
   "source": []
  },
  {
   "cell_type": "code",
   "execution_count": null,
   "metadata": {},
   "outputs": [],
   "source": []
  },
  {
   "cell_type": "code",
   "execution_count": null,
   "metadata": {},
   "outputs": [],
   "source": []
  },
  {
   "cell_type": "code",
   "execution_count": null,
   "metadata": {},
   "outputs": [],
   "source": []
  },
  {
   "cell_type": "code",
   "execution_count": null,
   "metadata": {},
   "outputs": [],
   "source": []
  },
  {
   "cell_type": "code",
   "execution_count": null,
   "metadata": {},
   "outputs": [],
   "source": []
  },
  {
   "cell_type": "code",
   "execution_count": null,
   "metadata": {},
   "outputs": [],
   "source": []
  },
  {
   "cell_type": "code",
   "execution_count": null,
   "metadata": {},
   "outputs": [],
   "source": [
    "voices_response = requests.get(\n",
    "    f\"{BASE_URL}/v1/voices\", params={\"xi-api-key\": API_KEY}, timeout=5\n",
    ")"
   ]
  },
  {
   "cell_type": "code",
   "execution_count": null,
   "metadata": {},
   "outputs": [],
   "source": [
    "voice_id"
   ]
  },
  {
   "cell_type": "code",
   "execution_count": null,
   "metadata": {},
   "outputs": [],
   "source": []
  },
  {
   "cell_type": "code",
   "execution_count": 4,
   "metadata": {},
   "outputs": [],
   "source": [
    "def _save_binary_to_mp3(content: BinaryIO, filename: str) -> None:\n",
    "    with open(filename, \"wb\") as mp3_file:\n",
    "        mp3_file.write(content)\n",
    "\n",
    "\n",
    "def list_available_names() -> list[str]:\n",
    "    voices_response = requests.get(\n",
    "        f\"{BASE_URL}/v1/voices\", params={\"xi-api-key\": API_KEY}, timeout=5\n",
    "    )\n",
    "    return [item.get(\"name\") for item in voices_response.json()[\"voices\"]]\n",
    "\n",
    "\n",
    "def convert_text_to_mp3(message: str, voice_name: str, mp3_filename: str) -> None:\n",
    "\n",
    "    voices_response = requests.get(\n",
    "        f\"{BASE_URL}/v1/voices\", params={\"xi-api-key\": API_KEY}, timeout=5\n",
    "    )\n",
    "\n",
    "    voice_id = _get_id_from_name(response=voices_response, name=voice_name)\n",
    "\n",
    "    payload = {\n",
    "        \"text\": message,\n",
    "        \"voice_settings\": {\"stability\": 0.75, \"similarity_boost\": 0.75},\n",
    "    }\n",
    "\n",
    "    text_to_speech_response = requests.post(\n",
    "        f\"{BASE_URL}/v1/text-to-speech/{voice_id}/stream\",\n",
    "        params={\"voice_id\": voice_id, \"xi-api-key\": API_KEY},\n",
    "        json=payload,\n",
    "        timeout=5,\n",
    "    )\n",
    "\n",
    "    while text_to_speech_response.status_code != 200:\n",
    "        time.sleep(5)\n",
    "        print(\"Trying again, the API maybe busy...\")\n",
    "        text_to_speech_response = requests.post(\n",
    "            f\"{BASE_URL}/v1/text-to-speech/{voice_id}/stream\",\n",
    "            params={\"voice_id\": voice_id, \"xi-api-key\": API_KEY},\n",
    "            json=payload,\n",
    "            timeout=5,\n",
    "        )\n",
    "\n",
    "    _save_binary_to_mp3(content=text_to_speech_response.content, filename=mp3_filename)\n",
    "def _get_id_from_name(response: Response, name: str) -> str:\n",
    "    id_to_name = {\n",
    "        item.get(\"name\"): item.get(\"voice_id\") for item in response.json()[\"voices\"]\n",
    "    }\n",
    "\n",
    "    return id_to_name[name]\n"
   ]
  },
  {
   "cell_type": "code",
   "execution_count": 5,
   "metadata": {},
   "outputs": [
    {
     "data": {
      "text/plain": [
       "['Rachel', 'Domi', 'Bella', 'Antoni', 'Elli', 'Josh', 'Arnold', 'Adam', 'Sam']"
      ]
     },
     "execution_count": 5,
     "metadata": {},
     "output_type": "execute_result"
    }
   ],
   "source": [
    "list_available_names()"
   ]
  },
  {
   "cell_type": "code",
   "execution_count": 5,
   "metadata": {},
   "outputs": [],
   "source": [
    "with open('transcripts/1684717213_2342722.txt') as file:\n",
    "    batch = file.readlines()[0]\n",
    "selected_voice = 'Bella'"
   ]
  },
  {
   "cell_type": "code",
   "execution_count": null,
   "metadata": {},
   "outputs": [],
   "source": []
  },
  {
   "cell_type": "code",
   "execution_count": null,
   "metadata": {},
   "outputs": [],
   "source": []
  },
  {
   "cell_type": "code",
   "execution_count": null,
   "metadata": {},
   "outputs": [],
   "source": []
  },
  {
   "cell_type": "code",
   "execution_count": null,
   "metadata": {},
   "outputs": [],
   "source": []
  },
  {
   "cell_type": "code",
   "execution_count": null,
   "metadata": {},
   "outputs": [],
   "source": []
  },
  {
   "cell_type": "code",
   "execution_count": null,
   "metadata": {},
   "outputs": [],
   "source": []
  },
  {
   "cell_type": "code",
   "execution_count": null,
   "metadata": {},
   "outputs": [],
   "source": []
  },
  {
   "cell_type": "code",
   "execution_count": null,
   "metadata": {},
   "outputs": [],
   "source": []
  },
  {
   "cell_type": "code",
   "execution_count": null,
   "metadata": {},
   "outputs": [
    {
     "name": "stdout",
     "output_type": "stream",
     "text": [
      "Trying again, the API maybe busy...\n",
      "Trying again, the API maybe busy...\n",
      "Trying again, the API maybe busy...\n",
      "Trying again, the API maybe busy...\n",
      "Trying again, the API maybe busy...\n",
      "Trying again, the API maybe busy...\n",
      "Trying again, the API maybe busy...\n",
      "Trying again, the API maybe busy...\n",
      "Trying again, the API maybe busy...\n",
      "Trying again, the API maybe busy...\n",
      "Trying again, the API maybe busy...\n",
      "Trying again, the API maybe busy...\n",
      "Trying again, the API maybe busy...\n",
      "Trying again, the API maybe busy...\n",
      "Trying again, the API maybe busy...\n",
      "Trying again, the API maybe busy...\n",
      "Trying again, the API maybe busy...\n",
      "Trying again, the API maybe busy...\n",
      "Trying again, the API maybe busy...\n",
      "Trying again, the API maybe busy...\n",
      "Trying again, the API maybe busy...\n",
      "Trying again, the API maybe busy...\n",
      "Trying again, the API maybe busy...\n",
      "Trying again, the API maybe busy...\n",
      "Trying again, the API maybe busy...\n",
      "Trying again, the API maybe busy...\n",
      "Trying again, the API maybe busy...\n",
      "Trying again, the API maybe busy...\n",
      "Trying again, the API maybe busy...\n",
      "Trying again, the API maybe busy...\n",
      "Trying again, the API maybe busy...\n",
      "Trying again, the API maybe busy...\n",
      "Trying again, the API maybe busy...\n",
      "Trying again, the API maybe busy...\n",
      "Trying again, the API maybe busy...\n",
      "Trying again, the API maybe busy...\n",
      "Trying again, the API maybe busy...\n",
      "Trying again, the API maybe busy...\n",
      "Trying again, the API maybe busy...\n",
      "Trying again, the API maybe busy...\n",
      "Trying again, the API maybe busy...\n",
      "Trying again, the API maybe busy...\n",
      "Trying again, the API maybe busy...\n",
      "Trying again, the API maybe busy...\n",
      "Trying again, the API maybe busy...\n",
      "Trying again, the API maybe busy...\n",
      "Trying again, the API maybe busy...\n",
      "Trying again, the API maybe busy...\n",
      "Trying again, the API maybe busy...\n",
      "Trying again, the API maybe busy...\n",
      "Trying again, the API maybe busy...\n",
      "Trying again, the API maybe busy...\n",
      "Trying again, the API maybe busy...\n",
      "Trying again, the API maybe busy...\n",
      "Trying again, the API maybe busy...\n",
      "Trying again, the API maybe busy...\n",
      "Trying again, the API maybe busy...\n",
      "Trying again, the API maybe busy...\n",
      "Trying again, the API maybe busy...\n",
      "Trying again, the API maybe busy...\n",
      "Trying again, the API maybe busy...\n",
      "Trying again, the API maybe busy...\n",
      "Trying again, the API maybe busy...\n",
      "Trying again, the API maybe busy...\n",
      "Trying again, the API maybe busy...\n",
      "Trying again, the API maybe busy...\n",
      "Trying again, the API maybe busy...\n",
      "Trying again, the API maybe busy...\n",
      "Trying again, the API maybe busy...\n",
      "Trying again, the API maybe busy...\n",
      "Trying again, the API maybe busy...\n",
      "Trying again, the API maybe busy...\n",
      "Trying again, the API maybe busy...\n",
      "Trying again, the API maybe busy...\n",
      "Trying again, the API maybe busy...\n",
      "Trying again, the API maybe busy...\n",
      "Trying again, the API maybe busy...\n",
      "Trying again, the API maybe busy...\n",
      "Trying again, the API maybe busy...\n",
      "Trying again, the API maybe busy...\n",
      "Trying again, the API maybe busy...\n",
      "Trying again, the API maybe busy...\n",
      "Trying again, the API maybe busy...\n",
      "Trying again, the API maybe busy...\n",
      "Trying again, the API maybe busy...\n",
      "Trying again, the API maybe busy...\n",
      "Trying again, the API maybe busy...\n",
      "Trying again, the API maybe busy...\n",
      "Trying again, the API maybe busy...\n",
      "Trying again, the API maybe busy...\n",
      "Trying again, the API maybe busy...\n",
      "Trying again, the API maybe busy...\n"
     ]
    }
   ],
   "source": [
    "convert_text_to_mp3(\n",
    "                message=batch,\n",
    "                voice_name=selected_voice,\n",
    "                mp3_filename=\"explanation.mp3\",\n",
    "            )"
   ]
  },
  {
   "cell_type": "code",
   "execution_count": null,
   "metadata": {},
   "outputs": [],
   "source": []
  }
 ],
 "metadata": {
  "kernelspec": {
   "display_name": "Python [conda env:t24]",
   "language": "python",
   "name": "conda-env-t24-py"
  },
  "language_info": {
   "codemirror_mode": {
    "name": "ipython",
    "version": 3
   },
   "file_extension": ".py",
   "mimetype": "text/x-python",
   "name": "python",
   "nbconvert_exporter": "python",
   "pygments_lexer": "ipython3",
   "version": "3.9.12"
  }
 },
 "nbformat": 4,
 "nbformat_minor": 4
}
