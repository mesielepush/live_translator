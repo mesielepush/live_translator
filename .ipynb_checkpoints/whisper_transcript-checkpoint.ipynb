{
 "cells": [
  {
   "cell_type": "code",
   "execution_count": 2,
   "metadata": {},
   "outputs": [],
   "source": [
    "from dotenv import load_dotenv\n",
    "import os\n",
    "import openai\n",
    "load_dotenv('.env')\n",
    "import time\n",
    "from datetime import datetime\n",
    "openai.api_key = os.getenv(\"OPENAI_API_KEY\")"
   ]
  },
  {
   "cell_type": "code",
   "execution_count": 3,
   "metadata": {},
   "outputs": [],
   "source": [
    "base_languague = 'spanish'\n",
    "promt = \"I'ts a lecture about Don Quixote, is in spanish\""
   ]
  },
  {
   "cell_type": "code",
   "execution_count": 3,
   "metadata": {},
   "outputs": [],
   "source": [
    "def get_next_file():\n",
    "    files = os.listdir('records')\n",
    "    files = [x.replace('.mp3','').replace('_','.') for x in files]\n",
    "    files = [float(x) for x in files]\n",
    "    return str(min(files)).replace('.','_') + '.mp3'\n",
    "def make_transcript(file):\n",
    "    audio_file= open(f\"records/{file}\", \"rb\")\n",
    "    return openai.Audio.translate(\"whisper-1\", audio_file, promt = promt, response_format = 'text')"
   ]
  },
  {
   "cell_type": "code",
   "execution_count": null,
   "metadata": {},
   "outputs": [],
   "source": [
    "while True:\n",
    "    if len(os.listdir('records')) == 0:\n",
    "        time.sleep(5)\n",
    "    else:\n",
    "        current_file = get_next_file()\n",
    "        transcript = make_transcript(current_file)\n",
    "        name_file = current_file.split('.mp3')[0]\n",
    "        with open(f'transcripts/{name_file}.txt', 'w') as f:\n",
    "            f.write(transcript)\n",
    "        os.remove('records/' + current_file)"
   ]
  },
  {
   "cell_type": "code",
   "execution_count": null,
   "metadata": {},
   "outputs": [],
   "source": []
  }
 ],
 "metadata": {
  "kernelspec": {
   "display_name": "Python [conda env:t24]",
   "language": "python",
   "name": "conda-env-t24-py"
  },
  "language_info": {
   "codemirror_mode": {
    "name": "ipython",
    "version": 3
   },
   "file_extension": ".py",
   "mimetype": "text/x-python",
   "name": "python",
   "nbconvert_exporter": "python",
   "pygments_lexer": "ipython3",
   "version": "3.9.12"
  }
 },
 "nbformat": 4,
 "nbformat_minor": 4
}
