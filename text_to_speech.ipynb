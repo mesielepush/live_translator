{
 "cells": [
  {
   "cell_type": "code",
   "execution_count": 1,
   "metadata": {},
   "outputs": [],
   "source": [
    "import os\n",
    "from gtts import gTTS\n",
    "from IPython.display import clear_output\n",
    "import time"
   ]
  },
  {
   "cell_type": "code",
   "execution_count": 2,
   "metadata": {},
   "outputs": [],
   "source": [
    "output_language = 'en' "
   ]
  },
  {
   "cell_type": "code",
   "execution_count": 3,
   "metadata": {},
   "outputs": [],
   "source": [
    "def get_current_file_n():\n",
    "    files = [ int(x.split('_translation.mp3')[0]) for x in os.listdir('translated_voice') if x.endswith('.mp3')]\n",
    "    if len(files) == 0:\n",
    "        current_file_n = 0\n",
    "    else:\n",
    "        current_file_n = max(files) + 1\n",
    "    return current_file_n\n",
    "def while_we_wait(current_file_n):\n",
    "    print(f'Wating for transcripts {current_file_n}')\n",
    "    clear_output(wait = True)\n",
    "    time.sleep(1)\n",
    "def read_file(current_file_n):\n",
    "    with open(f'transcripts/{current_file_n}.mp3.txt') as f:\n",
    "        lines = f.readlines()\n",
    "    return lines[0]\n",
    "def write_mp3(current_file_n, output_language):\n",
    "    file = read_file(current_file_n)\n",
    "    audio = gTTS(text=file, lang=output_language, slow=True, tld='co.uk')\n",
    "    audio.save(f'translated_voice/{current_file_n}_translation.mp3')"
   ]
  },
  {
   "cell_type": "code",
   "execution_count": 4,
   "metadata": {},
   "outputs": [],
   "source": [
    "def get_tts():\n",
    "    current_file_n = get_current_file_n()\n",
    "    s = 0\n",
    "    while True:\n",
    "        if s == 50000:\n",
    "            break\n",
    "        if not os.path.exists(f'transcripts/{current_file_n}.mp3.txt'):\n",
    "            while_we_wait(current_file_n)\n",
    "            s+=1\n",
    "            continue\n",
    "        else:\n",
    "            try:\n",
    "                write_mp3(current_file_n, output_language)\n",
    "            except:\n",
    "                continue\n",
    "            current_file_n += 1\n",
    "            print(f'current {current_file_n}')\n",
    "            s+=1"
   ]
  },
  {
   "cell_type": "code",
   "execution_count": null,
   "metadata": {},
   "outputs": [
    {
     "name": "stdout",
     "output_type": "stream",
     "text": [
      "Wating for transcripts 10\n"
     ]
    }
   ],
   "source": [
    "get_tts()"
   ]
  },
  {
   "cell_type": "code",
   "execution_count": null,
   "metadata": {},
   "outputs": [],
   "source": []
  }
 ],
 "metadata": {
  "kernelspec": {
   "display_name": "Python [conda env:t24]",
   "language": "python",
   "name": "conda-env-t24-py"
  },
  "language_info": {
   "codemirror_mode": {
    "name": "ipython",
    "version": 3
   },
   "file_extension": ".py",
   "mimetype": "text/x-python",
   "name": "python",
   "nbconvert_exporter": "python",
   "pygments_lexer": "ipython3",
   "version": "3.9.12"
  }
 },
 "nbformat": 4,
 "nbformat_minor": 4
}
