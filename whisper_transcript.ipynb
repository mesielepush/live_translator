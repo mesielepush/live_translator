{
 "cells": [
  {
   "cell_type": "code",
   "execution_count": 1,
   "metadata": {},
   "outputs": [],
   "source": [
    "from dotenv import load_dotenv\n",
    "import os\n",
    "import openai\n",
    "load_dotenv('.env')\n",
    "import time\n",
    "from datetime import datetime\n",
    "import translation\n",
    "from IPython.display import clear_output\n",
    "openai.api_key = os.getenv(\"OPENAI_API_KEY\")"
   ]
  },
  {
   "cell_type": "code",
   "execution_count": null,
   "metadata": {},
   "outputs": [],
   "source": []
  },
  {
   "cell_type": "code",
   "execution_count": 2,
   "metadata": {},
   "outputs": [],
   "source": [
    "base_language = 'Spanish'\n",
    "output_language = 'english'\n",
    "promt_voice = \"A literature lecture by an expert\""
   ]
  },
  {
   "cell_type": "code",
   "execution_count": 3,
   "metadata": {},
   "outputs": [],
   "source": [
    "def make_english_transcript(file):\n",
    "    clear_output(wait = True)\n",
    "    print('to english transcript')\n",
    "    print(file)\n",
    "    audio_file= open(f\"records/{file}\", \"rb\")\n",
    "    return openai.Audio.translate(\"whisper-1\", audio_file, promt = promt_voice, response_format = 'text')\n",
    "\n",
    "def translate_to_non_english(file, output_language, promt_voice):\n",
    "    import translation\n",
    "    clear_output(wait = True)\n",
    "    print(f'translating {current_file}')\n",
    "    audio_file= open(f\"records/{file}\", \"rb\")\n",
    "    text_to_translate = openai.Audio.transcribe(\"whisper-1\", audio_file, promt = promt_voice, response_format = 'text')\n",
    "    return translation.get_translation(text_to_translate, output_language)\n",
    "\n",
    "def write_down_translation(current_file, transcript):\n",
    "    with open(f'transcripts/{current_file}.txt', 'w') as f:\n",
    "        f.write(transcript)\n",
    "        print(f'writing {current_file} done')\n"
   ]
  },
  {
   "cell_type": "code",
   "execution_count": 4,
   "metadata": {},
   "outputs": [],
   "source": [
    "def transcribe(output_language, promt_voice):    \n",
    "    files = [int(x.split('.mp3.txt')[0]) for x in os.listdir('transcripts') if x.endswith('.txt')]\n",
    "    if len(files) == 0:\n",
    "        current_file_n = 0\n",
    "    else:\n",
    "        current_file_n = max(files) + 1\n",
    "    \n",
    "    while True:\n",
    "        if not os.path.exists(f'records/{str(current_file_n)}.mp3'):\n",
    "            clear_output(wait = True)\n",
    "            print(f'waiting for current recording: {current_file_n}')\n",
    "            time.sleep(1)\n",
    "            continue\n",
    "        else:\n",
    "            current_file = str(current_file_n)+'.mp3'\n",
    "            print(current_file)\n",
    "\n",
    "            if output_language == 'english':\n",
    "                transcript = make_english_transcript(current_file)\n",
    "            else:\n",
    "                transcript = translate_to_non_english(current_file, output_language, promt_voice)\n",
    "                \n",
    "                \n",
    "            write_down_translation(current_file, transcript)\n",
    "            current_file_n += 1\n"
   ]
  },
  {
   "cell_type": "code",
   "execution_count": null,
   "metadata": {},
   "outputs": [
    {
     "name": "stdout",
     "output_type": "stream",
     "text": [
      "waiting for current recording: 6\n"
     ]
    }
   ],
   "source": [
    "transcribe(output_language, promt_voice)"
   ]
  },
  {
   "cell_type": "code",
   "execution_count": null,
   "metadata": {},
   "outputs": [],
   "source": []
  },
  {
   "cell_type": "code",
   "execution_count": null,
   "metadata": {},
   "outputs": [],
   "source": []
  },
  {
   "cell_type": "code",
   "execution_count": null,
   "metadata": {},
   "outputs": [],
   "source": []
  },
  {
   "cell_type": "code",
   "execution_count": null,
   "metadata": {},
   "outputs": [],
   "source": []
  },
  {
   "cell_type": "code",
   "execution_count": null,
   "metadata": {},
   "outputs": [],
   "source": []
  },
  {
   "cell_type": "code",
   "execution_count": null,
   "metadata": {},
   "outputs": [],
   "source": [
    "log_check = \"\"\"\n",
    "def transcribe(output_language, promt_voice):    \n",
    "    current_file_n = 0\n",
    "    \n",
    "    while True:\n",
    "        if not os.path.exists(f'records/{str(current_file_n)}.mp3'):\n",
    "            clear_output(wait = True)\n",
    "            print(f'waiting for input current: {current_file_n}')\n",
    "            continue\n",
    "        else:\n",
    "            current_file = str(current_file_n)+'.mp3'\n",
    "            print(current_file)\n",
    "\n",
    "            if output_language == 'english':\n",
    "                clear_output(wait = True)\n",
    "                print('english')\n",
    "                transcript = make_english_transcript(current_file)\n",
    "                current_file_n += 1\n",
    "            else:\n",
    "                clear_output(wait = True)\n",
    "                print(f'translating {current_file}')\n",
    "                transcript = translate_to_non_english(current_file, output_language, promt_voice)\n",
    "                current_file_n += 1\n",
    "                \n",
    "            write_down_translation(current_file, transcript)\n",
    "\n",
    "\n",
    "\"\"\""
   ]
  },
  {
   "cell_type": "code",
   "execution_count": 12,
   "metadata": {},
   "outputs": [
    {
     "data": {
      "text/plain": [
       "\"\\ndef transcribe():    \\n    current_file_n = 0\\n    s = 0\\n    on = True\\n    while on:\\n        if s == 3000: on = False\\n\\n        if not os.path.exists(f'records/{str(current_file_n)}.mp3'):\\n            clear_output(wait = True)\\n            print(s, ' out of 3000')\\n            print('waiting for input')\\n            s+=1\\n            continue\\n        else:\\n            current_file = str(current_file_n)+'.mp3'\\n            print(current_file)\\n\\n            if output_language == 'english':\\n                clear_output(wait = True)\\n                print('english')\\n                transcript = make_transcript(current_file)\\n                s+=1\\n            else:\\n                clear_output(wait = True)\\n                print(f'translating {current_file}')\\n                transcript = translate_to_non_english(current_file, output_language, promt_voice)\\n                #os.remove('records/' + current_file)\\n                current_file_n += 1\\n                s+=1\\n            write_down_translation(current_file, transcript)\\n            \\n        s+=1\\n\\n\""
      ]
     },
     "execution_count": 12,
     "metadata": {},
     "output_type": "execute_result"
    }
   ],
   "source": [
    "\"\"\"\n",
    "def transcribe():    \n",
    "    current_file_n = 0\n",
    "    s = 0\n",
    "    on = True\n",
    "    while on:\n",
    "        if s == 3000: on = False\n",
    "\n",
    "        if not os.path.exists(f'records/{str(current_file_n)}.mp3'):\n",
    "            clear_output(wait = True)\n",
    "            print(s, ' out of 3000')\n",
    "            print('waiting for input')\n",
    "            s+=1\n",
    "            continue\n",
    "        else:\n",
    "            current_file = str(current_file_n)+'.mp3'\n",
    "            print(current_file)\n",
    "\n",
    "            if output_language == 'english':\n",
    "                clear_output(wait = True)\n",
    "                print('english')\n",
    "                transcript = make_transcript(current_file)\n",
    "                s+=1\n",
    "            else:\n",
    "                clear_output(wait = True)\n",
    "                print(f'translating {current_file}')\n",
    "                transcript = translate_to_non_english(current_file, output_language, promt_voice)\n",
    "                #os.remove('records/' + current_file)\n",
    "                current_file_n += 1\n",
    "                s+=1\n",
    "            write_down_translation(current_file, transcript)\n",
    "            \n",
    "        s+=1\n",
    "\n",
    "\"\"\""
   ]
  },
  {
   "cell_type": "code",
   "execution_count": null,
   "metadata": {},
   "outputs": [],
   "source": []
  }
 ],
 "metadata": {
  "kernelspec": {
   "display_name": "Python [conda env:t24]",
   "language": "python",
   "name": "conda-env-t24-py"
  },
  "language_info": {
   "codemirror_mode": {
    "name": "ipython",
    "version": 3
   },
   "file_extension": ".py",
   "mimetype": "text/x-python",
   "name": "python",
   "nbconvert_exporter": "python",
   "pygments_lexer": "ipython3",
   "version": "3.9.12"
  }
 },
 "nbformat": 4,
 "nbformat_minor": 4
}
