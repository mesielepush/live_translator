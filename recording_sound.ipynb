{
 "cells": [
  {
   "cell_type": "code",
   "execution_count": 15,
   "metadata": {},
   "outputs": [],
   "source": [
    "import sounddevice as sd\n",
    "from scipy.io.wavfile import write\n",
    "from datetime import datetime\n",
    "import time"
   ]
  },
  {
   "cell_type": "code",
   "execution_count": 16,
   "metadata": {},
   "outputs": [],
   "source": [
    "sr = 44100\n",
    "duration = 60"
   ]
  },
  {
   "cell_type": "code",
   "execution_count": 17,
   "metadata": {},
   "outputs": [
    {
     "data": {
      "text/plain": [
       "   0 Microsoft Sound Mapper - Input, MME (2 in, 0 out)\n",
       "*  1 Digidesign Mbox2 Analog 1/2 (Di, MME (2 in, 0 out)\n",
       "   2 Microphone (HD Pro Webcam C920), MME (2 in, 0 out)\n",
       "   3 Digidesign Mbox2 S/PDIF 3/4 (Di, MME (2 in, 0 out)\n",
       "   4 Microsoft Sound Mapper - Output, MME (0 in, 2 out)\n",
       "   5 Speakers (High Definition Audio, MME (0 in, 2 out)\n",
       "   6 ASUS VP228 (2- NVIDIA High Defi, MME (0 in, 2 out)\n",
       "   7 Digidesign Mbox2 Analog 1/2 (Di, MME (0 in, 2 out)\n",
       "   8 C32R50x (2- NVIDIA High Definit, MME (0 in, 2 out)\n",
       "   9 Digital Audio (S/PDIF) (High De, MME (0 in, 2 out)\n",
       "  10 Primary Sound Capture Driver, Windows DirectSound (2 in, 0 out)\n",
       "  11 Digidesign Mbox2 Analog 1/2 (Digidesign Mbox 2 Audio), Windows DirectSound (2 in, 0 out)\n",
       "  12 Microphone (HD Pro Webcam C920), Windows DirectSound (2 in, 0 out)\n",
       "  13 Digidesign Mbox2 S/PDIF 3/4 (Digidesign Mbox 2 Audio), Windows DirectSound (2 in, 0 out)\n",
       "  14 Primary Sound Driver, Windows DirectSound (0 in, 2 out)\n",
       "  15 Speakers (High Definition Audio Device), Windows DirectSound (0 in, 2 out)\n",
       "  16 ASUS VP228 (2- NVIDIA High Definition Audio), Windows DirectSound (0 in, 2 out)\n",
       "  17 Digidesign Mbox2 Analog 1/2 (Digidesign Mbox 2 Audio), Windows DirectSound (0 in, 2 out)\n",
       "  18 C32R50x (2- NVIDIA High Definition Audio), Windows DirectSound (0 in, 2 out)\n",
       "  19 Digital Audio (S/PDIF) (High Definition Audio Device), Windows DirectSound (0 in, 2 out)\n",
       "  20 ASIO Digidesign Driver Mbox2, ASIO (4 in, 2 out)\n",
       "  21 ASIO4ALL v2, ASIO (2 in, 2 out)\n",
       "  22 FL Studio ASIO, ASIO (2 in, 2 out)\n",
       "  23 ASUS VP228 (2- NVIDIA High Definition Audio), Windows WASAPI (0 in, 2 out)\n",
       "  24 Speakers (High Definition Audio Device), Windows WASAPI (0 in, 2 out)\n",
       "  25 Digidesign Mbox2 Analog 1/2 (Digidesign Mbox 2 Audio), Windows WASAPI (0 in, 2 out)\n",
       "  26 C32R50x (2- NVIDIA High Definition Audio), Windows WASAPI (0 in, 2 out)\n",
       "  27 Digital Audio (S/PDIF) (High Definition Audio Device), Windows WASAPI (0 in, 2 out)\n",
       "  28 Digidesign Mbox2 Analog 1/2 (Digidesign Mbox 2 Audio), Windows WASAPI (2 in, 0 out)\n",
       "  29 Microphone (HD Pro Webcam C920), Windows WASAPI (2 in, 0 out)\n",
       "  30 Digidesign Mbox2 S/PDIF 3/4 (Digidesign Mbox 2 Audio), Windows WASAPI (2 in, 0 out)\n",
       "  31 Digidesign Mbox2 Analog 1/2 (Mbox2 In 1/2 In), Windows WDM-KS (2 in, 0 out)\n",
       "  32 Digidesign Mbox2 Analog 1/2 (Mbox2 Out 1/2 Out), Windows WDM-KS (0 in, 2 out)\n",
       "  33 Digidesign Mbox2 S/PDIF 3/4 (Mbox2 In S/PDIF 3/4 In), Windows WDM-KS (2 in, 0 out)\n",
       "  34 Output (@System32\\drivers\\bthhfenum.sys,#4;%1 Hands-Free HF Audio%0\n",
       ";(Kobo Libra 2)), Windows WDM-KS (0 in, 1 out)\n",
       "  35 Input (@System32\\drivers\\bthhfenum.sys,#4;%1 Hands-Free HF Audio%0\n",
       ";(Kobo Libra 2)), Windows WDM-KS (1 in, 0 out)\n",
       "  36 Headset (@System32\\drivers\\bthhfenum.sys,#2;%1 Hands-Free AG Audio%0\n",
       ";(SOUNDPEATS H1_D2AD)), Windows WDM-KS (0 in, 1 out)\n",
       "  37 Headset (@System32\\drivers\\bthhfenum.sys,#2;%1 Hands-Free AG Audio%0\n",
       ";(SOUNDPEATS H1_D2AD)), Windows WDM-KS (1 in, 0 out)\n",
       "  38 Output (NVIDIA High Definition Audio), Windows WDM-KS (0 in, 2 out)\n",
       "  39 Output (), Windows WDM-KS (0 in, 2 out)\n",
       "  40 Headphones (SteelSeries_Sonar_VAD Media Wave Speaker), Windows WDM-KS (0 in, 8 out)\n",
       "  41 Line Out (SteelSeries_Sonar_VAD Stream Wave), Windows WDM-KS (0 in, 2 out)\n",
       "  42 SteelSeries Sonar - Stream (SteelSeries_Sonar_VAD Stream Wave), Windows WDM-KS (2 in, 0 out)\n",
       "  43 Line Out (SteelSeries_Sonar_VAD Chat Capture Wave), Windows WDM-KS (0 in, 2 out)\n",
       "  44 SteelSeries Sonar - Microphone (SteelSeries_Sonar_VAD Chat Capture Wave), Windows WDM-KS (2 in, 0 out)\n",
       "  45 Output (SteelSeries_Sonar_VAD Chat Wave Speaker), Windows WDM-KS (0 in, 2 out)\n",
       "  46 Headphones (SteelSeries_Sonar_VAD Aux Wave Speaker), Windows WDM-KS (0 in, 8 out)\n",
       "  47 Headphones (SteelSeries_Sonar_VAD Game Wave Speaker), Windows WDM-KS (0 in, 8 out)\n",
       "  48 Line (), Windows WDM-KS (2 in, 0 out)\n",
       "  49 Speakers (HD Audio Speaker), Windows WDM-KS (0 in, 2 out)\n",
       "  50 SPDIF Out (HD Audio SPDIF out), Windows WDM-KS (0 in, 2 out)\n",
       "  51 Microphone (HD Pro Webcam C920), Windows WDM-KS (2 in, 0 out)\n",
       "  52 Headphones (), Windows WDM-KS (0 in, 2 out)"
      ]
     },
     "execution_count": 17,
     "metadata": {},
     "output_type": "execute_result"
    }
   ],
   "source": [
    "sd.query_devices()"
   ]
  },
  {
   "cell_type": "code",
   "execution_count": 18,
   "metadata": {},
   "outputs": [
    {
     "data": {
      "text/plain": [
       "[1, 1]"
      ]
     },
     "execution_count": 18,
     "metadata": {},
     "output_type": "execute_result"
    }
   ],
   "source": [
    "sd.default.device = 1\n",
    "sd.default.device"
   ]
  },
  {
   "cell_type": "code",
   "execution_count": 19,
   "metadata": {},
   "outputs": [],
   "source": [
    "def record_batch(seconds = 60):\n",
    "    recording = sd.rec(int(seconds * sr), \n",
    "                       samplerate=sr, channels=1)\n",
    "    sd.wait()\n",
    "    name = str(time.time()).replace('.','')\n",
    "    write(f\"records/{name}.mp3\", sr, recording)"
   ]
  },
  {
   "cell_type": "code",
   "execution_count": 20,
   "metadata": {},
   "outputs": [],
   "source": [
    "def start_recording(seconds = 10):\n",
    "    done = 0\n",
    "    while True:\n",
    "        record_batch(seconds = seconds)\n",
    "        done +=1\n",
    "        if done == 4:\n",
    "            print('done')\n",
    "            break"
   ]
  },
  {
   "cell_type": "code",
   "execution_count": 21,
   "metadata": {},
   "outputs": [
    {
     "name": "stdout",
     "output_type": "stream",
     "text": [
      "done\n"
     ]
    }
   ],
   "source": [
    "start_recording()"
   ]
  },
  {
   "cell_type": "code",
   "execution_count": null,
   "metadata": {},
   "outputs": [],
   "source": []
  }
 ],
 "metadata": {
  "kernelspec": {
   "display_name": "Python [conda env:t24]",
   "language": "python",
   "name": "conda-env-t24-py"
  },
  "language_info": {
   "codemirror_mode": {
    "name": "ipython",
    "version": 3
   },
   "file_extension": ".py",
   "mimetype": "text/x-python",
   "name": "python",
   "nbconvert_exporter": "python",
   "pygments_lexer": "ipython3",
   "version": "3.9.12"
  }
 },
 "nbformat": 4,
 "nbformat_minor": 4
}
